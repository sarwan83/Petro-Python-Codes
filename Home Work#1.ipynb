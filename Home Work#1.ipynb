{
 "cells": [
  {
   "cell_type": "code",
   "execution_count": 13,
   "id": "ad460eaf",
   "metadata": {},
   "outputs": [],
   "source": [
    "# Question 1"
   ]
  },
  {
   "cell_type": "code",
   "execution_count": 14,
   "id": "e3b23653",
   "metadata": {},
   "outputs": [
    {
     "name": "stdout",
     "output_type": "stream",
     "text": [
      "Saravana\n",
      "Kumar\n"
     ]
    }
   ],
   "source": [
    "print (\"Saravana\")\n",
    "print (\"Kumar\")"
   ]
  },
  {
   "cell_type": "code",
   "execution_count": 15,
   "id": "8fa598e7",
   "metadata": {},
   "outputs": [],
   "source": [
    "#Question 2a"
   ]
  },
  {
   "cell_type": "code",
   "execution_count": 16,
   "id": "7798f22e",
   "metadata": {},
   "outputs": [
    {
     "data": {
      "text/plain": [
       "366"
      ]
     },
     "execution_count": 16,
     "metadata": {},
     "output_type": "execute_result"
    }
   ],
   "source": [
    "122*3"
   ]
  },
  {
   "cell_type": "code",
   "execution_count": 17,
   "id": "0795cef9",
   "metadata": {},
   "outputs": [],
   "source": [
    "#Question 2b"
   ]
  },
  {
   "cell_type": "code",
   "execution_count": 18,
   "id": "9bcd507f",
   "metadata": {},
   "outputs": [
    {
     "data": {
      "text/plain": [
       "'122122122'"
      ]
     },
     "execution_count": 18,
     "metadata": {},
     "output_type": "execute_result"
    }
   ],
   "source": [
    "\"122\"*3"
   ]
  },
  {
   "cell_type": "code",
   "execution_count": 19,
   "id": "581b192c",
   "metadata": {},
   "outputs": [],
   "source": [
    "#Question 2c"
   ]
  },
  {
   "cell_type": "code",
   "execution_count": 21,
   "id": "fe5cea00",
   "metadata": {},
   "outputs": [
    {
     "data": {
      "text/plain": [
       "str"
      ]
     },
     "execution_count": 21,
     "metadata": {},
     "output_type": "execute_result"
    }
   ],
   "source": [
    "type(\"3456gvdcf\" * 6)"
   ]
  },
  {
   "cell_type": "code",
   "execution_count": 22,
   "id": "ce466e07",
   "metadata": {},
   "outputs": [],
   "source": [
    "#Question 2d"
   ]
  },
  {
   "cell_type": "code",
   "execution_count": 25,
   "id": "26ea908e",
   "metadata": {},
   "outputs": [
    {
     "name": "stdout",
     "output_type": "stream",
     "text": [
      "OilAnalytics\n"
     ]
    }
   ],
   "source": [
    "print (\"Oil\"+\"Analytics\")"
   ]
  },
  {
   "cell_type": "code",
   "execution_count": 26,
   "id": "7359ef75",
   "metadata": {},
   "outputs": [],
   "source": [
    "#Question 3 - What is the reminder of 1256473 divided by72"
   ]
  },
  {
   "cell_type": "code",
   "execution_count": 27,
   "id": "3ca1a07a",
   "metadata": {},
   "outputs": [
    {
     "name": "stdout",
     "output_type": "stream",
     "text": [
      "1\n"
     ]
    }
   ],
   "source": [
    "print (1256473%72)"
   ]
  },
  {
   "cell_type": "code",
   "execution_count": 28,
   "id": "92d651d9",
   "metadata": {},
   "outputs": [
    {
     "name": "stdout",
     "output_type": "stream",
     "text": [
      "17451\n"
     ]
    }
   ],
   "source": [
    "print (1256473//72)"
   ]
  },
  {
   "cell_type": "code",
   "execution_count": null,
   "id": "22fce299",
   "metadata": {},
   "outputs": [],
   "source": []
  }
 ],
 "metadata": {
  "kernelspec": {
   "display_name": "Python 3 (ipykernel)",
   "language": "python",
   "name": "python3"
  },
  "language_info": {
   "codemirror_mode": {
    "name": "ipython",
    "version": 3
   },
   "file_extension": ".py",
   "mimetype": "text/x-python",
   "name": "python",
   "nbconvert_exporter": "python",
   "pygments_lexer": "ipython3",
   "version": "3.10.9"
  }
 },
 "nbformat": 4,
 "nbformat_minor": 5
}
